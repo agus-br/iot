{
 "cells": [
  {
   "cell_type": "code",
   "execution_count": null,
   "metadata": {},
   "outputs": [],
   "source": [
    "import tkinter as tk\n",
    "import serial\n",
    "import time"
   ]
  },
  {
   "cell_type": "code",
   "execution_count": null,
   "metadata": {},
   "outputs": [],
   "source": [
    "arduino = serial.Serial(\"COM3\", 9600)\n",
    "time.sleep(2)\n",
    "\n",
    "def encender():\n",
    "    arduino.write(b'a')\n",
    "    \n",
    "def apagar():\n",
    "    arduino.write(b'x')\n",
    "    \n",
    "window = tk.Tk()\n",
    "window.geometry(\"400x1000\")\n",
    "\n",
    "bttn = tk.Button(window, text=\"Encender\", command=encender)\n",
    "bttn.place(x=100, y=0)\n",
    "\n",
    "bttn = tk.Button(window, text=\"Apagar\", command=apagar)\n",
    "bttn.place(x=250, y=0)\n",
    "\n",
    "window.mainloop()"
   ]
  }
 ],
 "metadata": {
  "kernelspec": {
   "display_name": "arduino",
   "language": "python",
   "name": "python3"
  },
  "language_info": {
   "name": "python",
   "version": "3.12.8"
  }
 },
 "nbformat": 4,
 "nbformat_minor": 2
}
