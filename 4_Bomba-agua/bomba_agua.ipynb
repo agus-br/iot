{
 "cells": [
  {
   "cell_type": "code",
   "execution_count": 1,
   "metadata": {},
   "outputs": [],
   "source": [
    "import tkinter as tk\n",
    "import serial\n",
    "import time"
   ]
  },
  {
   "cell_type": "code",
   "execution_count": 3,
   "metadata": {},
   "outputs": [],
   "source": [
    "arduino = serial.Serial(\"COM3\", 9600)\n",
    "time.sleep(2)\n",
    "\n",
    "# Función para encender el flujo de agua\n",
    "def encender():\n",
    "    arduino.write(b'a')\n",
    "\n",
    "# Función para apagar el flujo de agua    \n",
    "def apagar():\n",
    "    arduino.write(b'q')\n",
    "   \n",
    "# Creación de la ventana principal\n",
    "window = tk.Tk()\n",
    "window.title(\"Control de la bomba de agua\")\n",
    "window.geometry(\"300x150\")\n",
    "window.configure(bg=\"lightgray\") # Color de fondo\n",
    "\n",
    "bttnEncender = tk.Button(window, text=\"Encender\", command=encender, bg=\"white\", fg=\"black\", font=(\"Arial\", 12, \"bold\"), bd=3)\n",
    "bttnEncender.place(x=50, y=75)\n",
    "\n",
    "bttnApagar = tk.Button(window, text=\"Apagar\", command=apagar, bg=\"white\", fg=\"black\", font=(\"Arial\", 12, \"bold\"), bd=3)\n",
    "bttnApagar.place(x=200, y=75)\n",
    "\n",
    "window.mainloop()"
   ]
  }
 ],
 "metadata": {
  "kernelspec": {
   "display_name": "arduino",
   "language": "python",
   "name": "python3"
  },
  "language_info": {
   "codemirror_mode": {
    "name": "ipython",
    "version": 3
   },
   "file_extension": ".py",
   "mimetype": "text/x-python",
   "name": "python",
   "nbconvert_exporter": "python",
   "pygments_lexer": "ipython3",
   "version": "3.12.8"
  }
 },
 "nbformat": 4,
 "nbformat_minor": 2
}
