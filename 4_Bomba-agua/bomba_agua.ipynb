{
 "cells": [
  {
   "cell_type": "code",
   "execution_count": null,
   "metadata": {},
   "outputs": [],
   "source": [
    "import tkinter as tk # Biblioteca gráfica para la creación de interfaces gráficas\n",
    "import serial # Permite la comunicación con el puerto serial de Arduino\n",
    "import time # Para gestionar pausas"
   ]
  },
  {
   "cell_type": "code",
   "execution_count": null,
   "metadata": {},
   "outputs": [],
   "source": [
    "# Configuración de la comunicación con el puerto serial\n",
    "arduino = serial.Serial(\"COM3\", 9600)\n",
    "time.sleep(2)   # Espera a que la conexión con Arduino se establezca\n",
    "\n",
    "# Función para encender el flujo de agua\n",
    "def encender():\n",
    "    arduino.write(b'a')\n",
    "\n",
    "# Función para apagar el flujo de agua    \n",
    "def apagar():\n",
    "    arduino.write(b'q')\n",
    "   \n",
    "# Creación de la ventana principal\n",
    "window = tk.Tk()\n",
    "window.title(\"Control de la bomba de agua\") # Poner un Título a la ventana\n",
    "window.geometry(\"300x150\") # Dimensiones de la ventana\n",
    "window.configure(bg=\"lightgray\") # Color de fondo\n",
    "\n",
    "# Creación de botones para controlar la bomba\n",
    "bttnEncender = tk.Button(window, text=\"Encender\", command=encender, bg=\"white\", fg=\"black\", font=(\"Arial\", 12, \"bold\"), bd=3)\n",
    "bttnEncender.place(x=50, y=75)\n",
    "\n",
    "bttnApagar = tk.Button(window, text=\"Apagar\", command=apagar, bg=\"white\", fg=\"black\", font=(\"Arial\", 12, \"bold\"), bd=3)\n",
    "bttnApagar.place(x=200, y=75)\n",
    "\n",
    "# Inicio del bucle principal de la interfaz gráfica\n",
    "window.mainloop()"
   ]
  }
 ],
 "metadata": {
  "kernelspec": {
   "display_name": "arduino",
   "language": "python",
   "name": "python3"
  },
  "language_info": {
   "codemirror_mode": {
    "name": "ipython",
    "version": 3
   },
   "file_extension": ".py",
   "mimetype": "text/x-python",
   "name": "python",
   "nbconvert_exporter": "python",
   "pygments_lexer": "ipython3",
   "version": "3.12.8"
  }
 },
 "nbformat": 4,
 "nbformat_minor": 2
}
